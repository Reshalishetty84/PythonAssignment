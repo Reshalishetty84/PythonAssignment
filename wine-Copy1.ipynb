{
 "cells": [
  {
   "cell_type": "raw",
   "metadata": {
    "scrolled": false
   },
   "source": [
    "import pandas as pd\n",
    "import matplotlib.pyplot as plt\n",
    "wine=pd.read_csv(\"data/winemag-data_first150k.csv.zip\",index_col=0)\n",
    "wine.head()"
   ]
  },
  {
   "cell_type": "raw",
   "metadata": {},
   "source": [
    "import matplotlib.pyplot as plt"
   ]
  },
  {
   "cell_type": "raw",
   "metadata": {},
   "source": [
    "wine.shape"
   ]
  },
  {
   "cell_type": "raw",
   "metadata": {
    "scrolled": false
   },
   "source": [
    "import matplotlib.pyplot as plt\n",
    "wine['province'].value_counts()"
   ]
  },
  {
   "cell_type": "raw",
   "metadata": {},
   "source": [
    "# import matplotlib.pyplot as plt\n",
    "wine['province'].value_counts().head(10).plot.bar()"
   ]
  },
  {
   "cell_type": "raw",
   "metadata": {},
   "source": [
    "(wine['province'].value_counts().head(10)/len(wine)).plot.bar()"
   ]
  },
  {
   "cell_type": "raw",
   "metadata": {},
   "source": [
    "wine['points'].value_counts().sort_index().plot.bar()"
   ]
  },
  {
   "cell_type": "raw",
   "metadata": {
    "scrolled": true
   },
   "source": [
    "wine['province'].value_counts().head(10).plot.pie()"
   ]
  },
  {
   "cell_type": "raw",
   "metadata": {},
   "source": [
    "wine['province'].value_counts().head(10).plot.line()"
   ]
  },
  {
   "cell_type": "raw",
   "metadata": {},
   "source": [
    "wine['province'].value_counts().sort_index().head(10).plot.pie()"
   ]
  },
  {
   "cell_type": "raw",
   "metadata": {},
   "source": [
    "wine['province'].value_counts().sort_index().head(10).plot.area()"
   ]
  },
  {
   "cell_type": "raw",
   "metadata": {},
   "source": [
    "wine['price'].plot.hist()"
   ]
  },
  {
   "cell_type": "raw",
   "metadata": {
    "scrolled": true
   },
   "source": [
    "wine[wine['price']<250]['price'].plot.hist()"
   ]
  },
  {
   "cell_type": "raw",
   "metadata": {},
   "source": [
    "wine['points'].value_counts().plot.bar()"
   ]
  },
  {
   "cell_type": "raw",
   "metadata": {},
   "source": [
    "wine[wine['price']<100].sample(100).plot.scatter(x='price',y='points')"
   ]
  },
  {
   "cell_type": "raw",
   "metadata": {},
   "source": [
    "wine[wine['price']<100].plot.scatter(x='price',y='points')#this is a positive correlation"
   ]
  },
  {
   "cell_type": "raw",
   "metadata": {},
   "source": [
    "wine[wine['price']<100].plot.hexbin(x='price',y='points',gridsize=15)"
   ]
  },
  {
   "cell_type": "raw",
   "metadata": {},
   "source": [
    "pd.set_option('max_columns',None)\n",
    "wine_counts=pd.read_csv(\"data/top-five-wine-score-counts.csv\",index_col=0)\n",
    "wine_counts.head()"
   ]
  },
  {
   "cell_type": "raw",
   "metadata": {},
   "source": [
    "wine_counts.plot.bar(stacked=True)"
   ]
  },
  {
   "cell_type": "raw",
   "metadata": {},
   "source": [
    "import seaborn as sns"
   ]
  },
  {
   "cell_type": "raw",
   "metadata": {},
   "source": [
    "sns.countplot(wine['points'])"
   ]
  },
  {
   "cell_type": "raw",
   "metadata": {},
   "source": [
    "sns.kdeplot(wine[wine['price']<200]['price'])#kdeplot means k distribution"
   ]
  },
  {
   "cell_type": "raw",
   "metadata": {},
   "source": [
    "wine[wine['price']<200]['price'].value_counts().sort_index().plot.line()"
   ]
  },
  {
   "cell_type": "raw",
   "metadata": {},
   "source": [
    "sns.distplot(wine['points'],bins=10,kde=False)"
   ]
  },
  {
   "cell_type": "raw",
   "metadata": {},
   "source": [
    "df=wine[wine.variety.isin(wine.variety.value_counts().head(5).index)]\n",
    "plt.figure(figsize=(10,6))\n",
    "sns.boxplot(x='variety',y='points',data=df)"
   ]
  },
  {
   "cell_type": "raw",
   "metadata": {},
   "source": [
    "df=wine[wine.variety.isin(wine.variety.value_counts().head(5).index)]\n",
    "plt.figure(figsize=(10,6))\n",
    "sns.violinplot(x='variety',y='points',data=df)"
   ]
  },
  {
   "cell_type": "raw",
   "metadata": {},
   "source": [
    "df=wine[wine.variety.isin(wine.variety.value_counts().head(5).index)]\n",
    "plt.figure(figsize=(10,6))\n",
    "sns.swarmplot(x='variety',y='points',data=df)"
   ]
  },
  {
   "cell_type": "raw",
   "metadata": {},
   "source": [
    "tips=sns.load_dataset(\"tips\")\n",
    "tips"
   ]
  },
  {
   "cell_type": "raw",
   "metadata": {
    "scrolled": true
   },
   "source": [
    "sns.barplot(x='day',y='tip',data=tips)"
   ]
  },
  {
   "cell_type": "raw",
   "metadata": {},
   "source": [
    "sns.boxplot(x='day',y='tip',data=tips)"
   ]
  },
  {
   "cell_type": "raw",
   "metadata": {},
   "source": [
    "sns.boxplot(x='day',y='tip',data=tips,hue='sex')"
   ]
  },
  {
   "cell_type": "raw",
   "metadata": {},
   "source": [
    "sns.swarmplot(data=tips,x='day',y='total_bill')"
   ]
  },
  {
   "cell_type": "raw",
   "metadata": {},
   "source": [
    "sns.boxplot(data=tips,x='day',y='total_bill',palette='coolwarm')\n",
    "sns.swarmplot(data=tips,x='day',y='total_bill',palette='husl')"
   ]
  }
 ],
 "metadata": {
  "kernelspec": {
   "display_name": "Python 3",
   "language": "python",
   "name": "python3"
  },
  "language_info": {
   "codemirror_mode": {
    "name": "ipython",
    "version": 3
   },
   "file_extension": ".py",
   "mimetype": "text/x-python",
   "name": "python",
   "nbconvert_exporter": "python",
   "pygments_lexer": "ipython3",
   "version": "3.7.1"
  }
 },
 "nbformat": 4,
 "nbformat_minor": 2
}
