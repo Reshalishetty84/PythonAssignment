{
 "cells": [
  {
   "cell_type": "code",
   "execution_count": 1,
   "id": "bc5ac51c",
   "metadata": {},
   "outputs": [
    {
     "name": "stdout",
     "output_type": "stream",
     "text": [
      "Enter the file name with .txt extension: <__main__.ReadReplaceTextFile object at 0x000001C3FD125520>\n",
      "Noneexample.txt\n",
      "File Name is: example.txt\n",
      "Original File Content is: This is a placement assignment\n",
      "Replaced File Content is: This is a screening assignment\n"
     ]
    }
   ],
   "source": [
    "import logging\n",
    "logging.basicConfig(filename = \"logging.log\" , level = logging.DEBUG , format ='%(asctime)s %(levelname)s %(message)s' )\n",
    "class ReadReplaceTextFile():\n",
    "    '''Example to illustrate reading the text file and replacing specific content of the file'''\n",
    "    def __init__(self):\n",
    "            a=input(print(\"Enter the file name with .txt extension:\",self))\n",
    "            if a.lower().endswith('.txt'):\n",
    "                self.file = a\n",
    "                print(\"File Name is:\",a)\n",
    "            else:\n",
    "                Lastpart = a.split(\".\")[-1]\n",
    "                print(\"You have entered\",Lastpart,\"as file extension\")\n",
    "            \n",
    "            \n",
    "    def Writing(self):\n",
    "        try:\n",
    "            logging.info(\"Writing The File Content\")\n",
    "            file=open(self.file,'w')\n",
    "            file.write('This is a placement assignment')\n",
    "            file.close()\n",
    "            read=open(self.file,'r')\n",
    "            self.content=read.read()\n",
    "            #return self.content\n",
    "            print(\"Original File Content is:\",self.content)\n",
    "        except:\n",
    "            logging.error(\"User has entered the wrong file extension\")\n",
    "        \n",
    "    \n",
    "    def Replacing(self):\n",
    "        try:\n",
    "            logging.info(\"Replacing The File Content\")\n",
    "            replace = self.content.replace(\"placement\",\"screening\")\n",
    "            Writefile = open(self.file,'w')\n",
    "            Writefile.write(replace)\n",
    "            Writefile.close()\n",
    "            Readfile=open(self.file,'r')\n",
    "            ReplacedContent=Readfile.read()\n",
    "            #return ReplacedContent\n",
    "            print(\"Replaced File Content is:\",ReplacedContent)\n",
    "        except AttributeError:\n",
    "            logging.error(\"User has entered the wrong file extension\")\n",
    "            print(\"Please enter the file name with .txt extension\")\n",
    "        \n",
    "x = ReadReplaceTextFile()\n",
    "x.Writing()\n",
    "x.Replacing()        "
   ]
  },
  {
   "cell_type": "markdown",
   "id": "303e6b76",
   "metadata": {},
   "source": [
    "# ABSTRACT CLASS"
   ]
  },
  {
   "cell_type": "markdown",
   "id": "baf1a0f9",
   "metadata": {},
   "source": [
    "Abstract base classes provide a blueprint for concrete classes. They don’t contain implementation. Instead, they provide an interface and make sure that derived concrete classes are properly implemented.By using an abstract class we can define a generalized structure of the methods without providing complete implementations of every method.A method becomes abstract when decorated with the keyword @abstractmethod.An Abstract method is a method which is declared but does not have implementation."
   ]
  },
  {
   "cell_type": "code",
   "execution_count": 2,
   "id": "a560ae40",
   "metadata": {},
   "outputs": [
    {
     "name": "stdout",
     "output_type": "stream",
     "text": [
      "This is a placement assignment\n",
      "This is a screening assignment\n"
     ]
    }
   ],
   "source": [
    "import abc\n",
    "from abc import ABC, abstractmethod\n",
    " \n",
    "class ReadWriteTextFile(ABC):\n",
    "    '''Example to illustrate reading and writing the text file'''\n",
    "    @abstractmethod\n",
    "    def node(self):\n",
    "        pass\n",
    "        \n",
    "class writeFile1(ReadWriteTextFile):\n",
    "    #writing and reading the content of example.txt file\n",
    "    # overriding abstract method\n",
    "    def node(self):\n",
    "        file=open('example1.txt','w')\n",
    "        file.write('This is a placement assignment')\n",
    "        file.close()\n",
    "        read=open('example1.txt','r')\n",
    "        content=read.read()\n",
    "        print(content)\n",
    "        \n",
    "class writeFile2(ReadWriteTextFile):\n",
    "    #writing and reading the content of example1.txt file\n",
    "    # overriding abstract method\n",
    "    def node(self):\n",
    "        file=open('example2.txt','w')\n",
    "        file.write('This is a screening assignment')\n",
    "        file.close()\n",
    "        read=open('example2.txt','r')\n",
    "        content=read.read()\n",
    "        print(content)\n",
    "#drivercode\n",
    "s = writeFile1()\n",
    "s.node()\n",
    "\n",
    "r = writeFile2()\n",
    "r.node()"
   ]
  },
  {
   "cell_type": "markdown",
   "id": "030fdd63",
   "metadata": {},
   "source": [
    "Here,writeFile1 and writeFile2 are the classes where we write and read the text file.In ReadWriteTextFile class we have used the abstract method with the keyword @abstractmethod."
   ]
  },
  {
   "cell_type": "markdown",
   "id": "71520def",
   "metadata": {},
   "source": [
    "# MULTIPLE INHERITENCE"
   ]
  },
  {
   "cell_type": "markdown",
   "id": "f612912a",
   "metadata": {},
   "source": [
    "When a class is derived from more than one base class it is called multiple Inheritance. The derived class inherits all the features of the base case.Inheritance is the mechanism to achieve the re-usability of code as one class(child class) can derive the properties of another class(parent class). "
   ]
  },
  {
   "cell_type": "code",
   "execution_count": 3,
   "id": "166fb01c",
   "metadata": {},
   "outputs": [
    {
     "name": "stdout",
     "output_type": "stream",
     "text": [
      "This is a placement assignment\n",
      "This is a screening assignment\n",
      "Writing And Reading Of Text File\n"
     ]
    }
   ],
   "source": [
    "class writeFile1():\n",
    "    def Write1(self):\n",
    "        #writing and reading the content of example.txt file\n",
    "        file=open('example1.txt','w')\n",
    "        file.write('This is a placement assignment')\n",
    "        file.close()\n",
    "        read=open('example1.txt','r')\n",
    "        content=read.read()\n",
    "        print(content)\n",
    "        \n",
    "class writeFile2():   \n",
    "    def Write2(self):\n",
    "        #writing and reading the content of example1.txt file\n",
    "        file=open('example2.txt','w')\n",
    "        file.write('This is a screening assignment')\n",
    "        file.close()\n",
    "        read=open('example2.txt','r')\n",
    "        content=read.read()\n",
    "        print(content)\n",
    "        \n",
    "class writeFile3(writeFile1, writeFile2):\n",
    "    def Write3(self):\n",
    "        print(\"Writing And Reading Of Text File\")\n",
    "        \n",
    "        \n",
    "c = writeFile3()\n",
    "c.Write1()\n",
    "c.Write2()\n",
    "c.Write3()"
   ]
  },
  {
   "cell_type": "markdown",
   "id": "dbb2b231",
   "metadata": {},
   "source": [
    "Here,writeFile1 and writeFile2 are the Base classes where we write and read the text file and writeFile3 is a child class that contains all the methods of the writeFile1 and writeFile2 class.We are creating the object for the writeFile3 through which we can access the functions of writeFile1, mother, and writeFile2."
   ]
  },
  {
   "cell_type": "markdown",
   "id": "c2806682",
   "metadata": {},
   "source": [
    "# DECORATOR"
   ]
  },
  {
   "cell_type": "markdown",
   "id": "66b29308",
   "metadata": {},
   "source": [
    "A decorator is a design pattern in Python that allows a user to add new functionality to an existing object without modifying its structure. Decorators are usually called before the definition of a function you want to decorate."
   ]
  },
  {
   "cell_type": "code",
   "execution_count": 4,
   "id": "3f414e3f",
   "metadata": {},
   "outputs": [
    {
     "data": {
      "text/plain": [
       "'This is a placement screening assignment'"
      ]
     },
     "execution_count": 4,
     "metadata": {},
     "output_type": "execute_result"
    }
   ],
   "source": [
    "def FileWriting_decorator(function):\n",
    "    def Write():\n",
    "        func = function()\n",
    "        file=open('DecoratorExample.txt','w')\n",
    "        file.write(func)\n",
    "        file.close()\n",
    "        read=open('DecoratorExample.txt','r')\n",
    "        content=read.read()\n",
    "        return content\n",
    "    return Write\n",
    "\n",
    "@FileWriting_decorator\n",
    "def Writing():\n",
    "    return 'This is a placement screening assignment'\n",
    "\n",
    "Writing()"
   ]
  },
  {
   "cell_type": "markdown",
   "id": "65d1512e",
   "metadata": {},
   "source": [
    "Here we have created the decorator that writes to the text file and then reads the content of that file.The decorator function(FileWriting_decorator) takes a function as an argument, and then define a function and pass it to the decorator.Then using the @ symbol before the function FileWriting_decorator which becomes the decorator we print the content that we want in that file."
   ]
  },
  {
   "cell_type": "code",
   "execution_count": null,
   "id": "fa5fe8b4",
   "metadata": {},
   "outputs": [],
   "source": []
  },
  {
   "cell_type": "code",
   "execution_count": null,
   "id": "08437f97",
   "metadata": {},
   "outputs": [],
   "source": []
  },
  {
   "cell_type": "code",
   "execution_count": null,
   "id": "23c85d47",
   "metadata": {},
   "outputs": [],
   "source": []
  },
  {
   "cell_type": "code",
   "execution_count": null,
   "id": "db2842ab",
   "metadata": {},
   "outputs": [],
   "source": []
  }
 ],
 "metadata": {
  "kernelspec": {
   "display_name": "Python 3 (ipykernel)",
   "language": "python",
   "name": "python3"
  },
  "language_info": {
   "codemirror_mode": {
    "name": "ipython",
    "version": 3
   },
   "file_extension": ".py",
   "mimetype": "text/x-python",
   "name": "python",
   "nbconvert_exporter": "python",
   "pygments_lexer": "ipython3",
   "version": "3.9.7"
  }
 },
 "nbformat": 4,
 "nbformat_minor": 5
}
